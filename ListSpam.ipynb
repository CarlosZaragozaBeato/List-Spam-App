{
 "cells": [
  {
   "cell_type": "code",
   "execution_count": 19,
   "metadata": {},
   "outputs": [],
   "source": [
    "from selenium import webdriver\n",
    "from selenium.webdriver.common.by import By\n",
    "from selenium.webdriver.support.ui import WebDriverWait\n",
    "from selenium.webdriver.support import expected_conditions as EC\n",
    "from selenium.webdriver.chrome.options import Options\n",
    "\n",
    "import mysql.connector\n",
    "import datetime\n",
    "from openpyxl import Workbook\n",
    "from openpyxl.styles import PatternFill"
   ]
  },
  {
   "attachments": {},
   "cell_type": "markdown",
   "metadata": {},
   "source": [
    "#### MYSQL ACCIONES"
   ]
  },
  {
   "cell_type": "code",
   "execution_count": 12,
   "metadata": {},
   "outputs": [],
   "source": [
    "#Funcion que obtiene los numeros de telefono con menos de 3 incidencias\n",
    "def obtenerNumeros():\n",
    "    conexion = mysql.connector.connect(\n",
    "    host = '127.0.0.1',\n",
    "    user = 'prueba',\n",
    "    password = '1234',\n",
    "    database = 'number_spam'\n",
    ")\n",
    "    cursor = conexion.cursor()\n",
    "\n",
    "    consulta = 'SELECT * FROM NUMERO AS NM WHERE NM.INCIDENCIAS < 3'\n",
    "    cursor.execute(consulta)\n",
    "    resultado = cursor.fetchall()\n",
    "    conexion.close()\n",
    "    \n",
    "    return resultado\n",
    "\n",
    "\n",
    "def ActualizarNumero(numero:str, incidencias:str):\n",
    "    conexion = mysql.connector.connect(\n",
    "        host = '127.0.0.1',\n",
    "        user = 'prueba',\n",
    "        password = '1234',\n",
    "        database = 'number_spam'\n",
    "    )\n",
    "    cursor = conexion.cursor()\n",
    "    consulta = 'UPDATE NUMERO SET INCIDENCIAS = %s, ULTIMA_ACTUALIZACION = %s WHERE NUMERO = %s ' \n",
    "    \n",
    "    #Fecha actual\n",
    "    fecha_actual = datetime.datetime.now()\n",
    "    timestamp = fecha_actual.strftime('%Y-%m-%d %H:%M:%S')\n",
    "\n",
    "    cursor.execute(consulta, (int(incidencias), timestamp,numero))\n",
    "    conexion.commit()\n",
    "    conexion.close() \n",
    "\n",
    "\n",
    "def ObtenerTodo():\n",
    "    conexion = mysql.connector.connect(\n",
    "        host = '127.0.0.1',\n",
    "        user = 'prueba',\n",
    "        password = '1234',\n",
    "        database = 'number_spam'\n",
    "    )\n",
    "    cursor = conexion.cursor()\n",
    "\n",
    "    consulta = \"SELECT * FROM NUMERO\"\n",
    "    cursor.execute(consulta)\n",
    "    resultado = cursor.fetchall()\n",
    "\n",
    "    conexion.commit()\n",
    "    conexion.close()\n",
    "    return resultado"
   ]
  },
  {
   "attachments": {},
   "cell_type": "markdown",
   "metadata": {},
   "source": [
    "#### EXCEL ACCIONES"
   ]
  },
  {
   "cell_type": "code",
   "execution_count": 22,
   "metadata": {},
   "outputs": [],
   "source": [
    "def GuardarNumerosExcel(lista, ruta):\n",
    "    wb = Workbook()\n",
    "\n",
    "    ws = wb.active\n",
    "    ws.title = \"NUMEROS SPAM\"\n",
    "\n",
    "    ws['A1'] = \"NUMEROS\"\n",
    "    ws['B1'] = \"INCIDENCIAS\"\n",
    "\n",
    "    for i, info in enumerate(lista):\n",
    "\n",
    "        ws[f'A{i+2}'] = info[0]\n",
    "        ws[f'B{i+2}'] = info[1]\n",
    "        \n",
    "        if int(info[1]) >=3:\n",
    "            ws[f'A{i+2}'].fill =  PatternFill(start_color='EB455F', end_color='EB455F', fill_type='solid')\n",
    "            ws[f'B{i+2}'].fill =  PatternFill(start_color='EB455F', end_color='EB455F', fill_type='solid')\n",
    "        else:\n",
    "            ws[f'A{i+2}'].fill =  PatternFill(start_color='DDF7E3', end_color='EB455F', fill_type='solid')\n",
    "            ws[f'B{i+2}'].fill =  PatternFill(start_color='DDF7E3', end_color='EB455F', fill_type='solid')\n",
    "\n",
    "    wb.save(ruta)\n",
    "    "
   ]
  },
  {
   "attachments": {},
   "cell_type": "markdown",
   "metadata": {},
   "source": [
    "Clase que buscara el numero de telefono que le pasemos por parametro en la pagina web lista spam"
   ]
  },
  {
   "cell_type": "code",
   "execution_count": 14,
   "metadata": {},
   "outputs": [],
   "source": [
    "class BuscarTelefono:\n",
    "\n",
    "    def __init__(self, numero_telefono:str, driver):\n",
    "        self.driver = driver\n",
    "        self.numero_telefono = numero_telefono\n",
    "        self.wait1 = WebDriverWait(self.driver, 20)\n",
    "\n",
    "\n",
    "\n",
    "    def BuscarTelefono(self):\n",
    "        self.driver.get('https://www.listaspam.com/')\n",
    "\n",
    "        btn_cookie = self.ObtenerClass('css-vm4tgo')\n",
    "        btn_cookie.click()\n",
    "\n",
    "\n",
    "        input_search = self.ObtenerXPATH('//*[@id=\"Telefono\"]')\n",
    "        input_search.click()\n",
    "        input_search.send_keys(self.numero_telefono)\n",
    "\n",
    "        btn_search = self.ObtenerXPATH('//*[@id=\"search_submit\"]')\n",
    "        btn_search.click()\n",
    "\n",
    "        numero_incidencias = self.ObtenerXPATH('//*[@id=\"content\"]/div/main/section[1]/div[2]/div[3]/span')\n",
    "        return (self.numero_telefono, numero_incidencias.text)\n",
    "\n",
    "    def ObtenerXPATH(self, xPath:str):\n",
    "        return self.wait1.until(EC.presence_of_element_located((\n",
    "                By.XPATH, xPath)))\n",
    "    \n",
    "    def ObtenerClass(self, ClassName:str):\n",
    "        return self.wait1.until(EC.presence_of_element_located((\n",
    "                By.CLASS_NAME, ClassName)))"
   ]
  },
  {
   "attachments": {},
   "cell_type": "markdown",
   "metadata": {},
   "source": [
    "##### Ejecucion del programa"
   ]
  },
  {
   "cell_type": "code",
   "execution_count": 15,
   "metadata": {},
   "outputs": [],
   "source": [
    "lista_numeros = obtenerNumeros()\n",
    "\n",
    "driver = webdriver.Chrome()\n",
    "driver.maximize_window()\n",
    "\n",
    "#De esta forma no nos apareceria un captcha pero no es una forma optima dado\n",
    "#que estamos abriendo constantemente un navegador nuevo\n",
    "\n",
    "lista = []\n",
    "\n",
    "for numero in lista_numeros:\n",
    "    driver = webdriver.Chrome()\n",
    "    driver.maximize_window()\n",
    "    buscar = BuscarTelefono(numero[0], driver)\n",
    "    info_numero = buscar.BuscarTelefono()\n",
    "    ActualizarNumero(info_numero[0], info_numero[1])\n",
    "    lista.append(info_numero)\n",
    "\n",
    "#Busqueda de uno en uno\n",
    "\"\"\"\n",
    "buscar = BuscarTelefono(lista_numeros[1][0], driver)\n",
    "resultado = buscar.BuscarTelefono()\n",
    "ActualizarNumero(resultado[0], resultado[1])\n",
    "\"\"\"\n",
    "\n",
    "driver.close()\n"
   ]
  },
  {
   "attachments": {},
   "cell_type": "markdown",
   "metadata": {},
   "source": [
    "Obtiene todos los numeros guardados de la base de datos y los inserta en un archivo excel"
   ]
  },
  {
   "cell_type": "code",
   "execution_count": 23,
   "metadata": {},
   "outputs": [],
   "source": [
    "lista_numeros = ObtenerTodo()\n",
    "\n",
    "GuardarNumerosExcel(lista_numeros, 'salidas/numero.xlsx')"
   ]
  }
 ],
 "metadata": {
  "kernelspec": {
   "display_name": "Python 3",
   "language": "python",
   "name": "python3"
  },
  "language_info": {
   "codemirror_mode": {
    "name": "ipython",
    "version": 3
   },
   "file_extension": ".py",
   "mimetype": "text/x-python",
   "name": "python",
   "nbconvert_exporter": "python",
   "pygments_lexer": "ipython3",
   "version": "3.11.2"
  },
  "orig_nbformat": 4
 },
 "nbformat": 4,
 "nbformat_minor": 2
}
